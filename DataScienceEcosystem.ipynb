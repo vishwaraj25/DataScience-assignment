{
 "cells": [
  {
   "cell_type": "markdown",
   "id": "d19b0626-2760-4102-bad2-baaab468bd46",
   "metadata": {},
   "source": [
    "# Data Science Tools and Ecosystem"
   ]
  },
  {
   "cell_type": "markdown",
   "id": "d2144209-0094-49da-95d0-abb561a6cd95",
   "metadata": {},
   "source": [
    "In this notebook, Data Science Tools and Ecosystem are summarized."
   ]
  },
  {
   "cell_type": "markdown",
   "id": "0f298c8c-c4c4-46e8-85a4-320e4abbea37",
   "metadata": {},
   "source": [
    "**Objectives:**\n",
    "\n",
    "- List popular languages for Data Science  \n",
    "- List commonly used libraries in Data Science  \n",
    "- Create tables using Markdown  "
   ]
  },
  {
   "cell_type": "markdown",
   "id": "7b0259dc-f383-4f5d-8bba-1ccc982ad946",
   "metadata": {},
   "source": [
    "Some of the popular languages that Data Scientists use are:\n",
    "\n",
    "1. Python  \n",
    "2. R  \n",
    "3. SQL  "
   ]
  },
  {
   "cell_type": "markdown",
   "id": "bab323bf-77e2-4b19-b504-576a5a0475c8",
   "metadata": {},
   "source": [
    "Some of the commonly used libraries used by Data Scientists include:\n",
    "1.  NumPy\n",
    "2.  Pandas\n",
    "3.  TensorFlow\n",
    "4.  Scikit-learn\n",
    "5.   Matplotlib\n",
    "\n"
   ]
  },
  {
   "cell_type": "markdown",
   "id": "62f953b0-6501-4d26-a100-011354d31430",
   "metadata": {},
   "source": [
    "| Data Science Tools       |\n",
    "|--------------------------|\n",
    "| Jupyter Notebook         |\n",
    "| RStudio                  |\n",
    "| Hadoop                   |\n"
   ]
  },
  {
   "cell_type": "markdown",
   "id": "ff0bdce2-82af-423d-a74b-d743d960d282",
   "metadata": {},
   "source": [
    "### Below are a few examples of evaluating arithmetic expressions in Python.\n"
   ]
  },
  {
   "cell_type": "code",
   "execution_count": 1,
   "id": "f976b0b6-64b8-4bb8-9a69-693ee0b1de0f",
   "metadata": {},
   "outputs": [
    {
     "data": {
      "text/plain": [
       "17"
      ]
     },
     "execution_count": 1,
     "metadata": {},
     "output_type": "execute_result"
    }
   ],
   "source": [
    "# This is a simple arithmetic expression to multiply then add integers\n",
    "(3 * 4) + 5\n"
   ]
  },
  {
   "cell_type": "code",
   "execution_count": 2,
   "id": "a320f585-b183-4cf9-ba63-653c8bac7b77",
   "metadata": {},
   "outputs": [
    {
     "data": {
      "text/plain": [
       "3.3333333333333335"
      ]
     },
     "execution_count": 2,
     "metadata": {},
     "output_type": "execute_result"
    }
   ],
   "source": [
    "# This will convert 200 minutes to hours by dividing by 60\n",
    "200 / 60\n"
   ]
  },
  {
   "cell_type": "markdown",
   "id": "789a015e-4460-4e18-b148-faeb3c1bb3f2",
   "metadata": {},
   "source": [
    "## Author\n",
    "\n",
    "Vishwaraj Saxena\n"
   ]
  },
  {
   "cell_type": "code",
   "execution_count": null,
   "id": "d0c144d4-d0ba-4dc4-a903-45d88fd2cc7d",
   "metadata": {},
   "outputs": [],
   "source": []
  }
 ],
 "metadata": {
  "kernelspec": {
   "display_name": "Python 3 (ipykernel)",
   "language": "python",
   "name": "python3"
  },
  "language_info": {
   "codemirror_mode": {
    "name": "ipython",
    "version": 3
   },
   "file_extension": ".py",
   "mimetype": "text/x-python",
   "name": "python",
   "nbconvert_exporter": "python",
   "pygments_lexer": "ipython3",
   "version": "3.12.8"
  }
 },
 "nbformat": 4,
 "nbformat_minor": 5
}
